{
 "cells": [
  {
   "cell_type": "markdown",
   "id": "seeing-complement",
   "metadata": {},
   "source": [
    "# Cancer experiences: a personal view\n",
    "\n",
    "In 60 years of life I have been cancer-free, but many family members and\n",
    "friends have had to address the disease.\n",
    "\n",
    "I prepared a table with some information on contacts whose cancer\n",
    "experiences I know of:"
   ]
  },
  {
   "cell_type": "code",
   "execution_count": null,
   "id": "single-pierre",
   "metadata": {},
   "outputs": [],
   "source": [
    "datatable(vjc_cancer_net)"
   ]
  },
  {
   "cell_type": "markdown",
   "id": "nasty-dancing",
   "metadata": {},
   "source": [
    "Note that the table can be sorted and searched. You can also alter the\n",
    "number of records presented.\n",
    "\n",
    "# Questions\n",
    "\n",
    "A.1.1. Why would a person make a table like this? A.1.2. How could this\n",
    "table be made more informative?\n",
    "\n",
    "# Answers\n",
    "\n",
    "A.1.1. A.1.2."
   ]
  }
 ],
 "metadata": {  "kernelspec": {   "display_name": "R",   "language": "R",   "name": "ir"  }},
 "nbformat": 4,
 "nbformat_minor": 5
}
