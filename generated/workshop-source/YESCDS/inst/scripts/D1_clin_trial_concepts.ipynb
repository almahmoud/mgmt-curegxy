{
 "cells": [
  {
   "cell_type": "markdown",
   "id": "medieval-aspect",
   "metadata": {},
   "source": [
    "# Clinical trials for cancer treatments\n",
    "\n",
    "-   Despite massive investments in cancer research and treatment\n",
    "    development, cancer remains a leading cause of death\n",
    "\n",
    "-   We have examined many aspects of cancer’s diversity"
   ]
  },
  {
   "cell_type": "code",
   "execution_count": null,
   "id": "exotic-pennsylvania",
   "metadata": {},
   "outputs": [],
   "source": [
    "-   tissue of origin\n",
    "-   somatic mutations\n",
    "-   response to treatment"
   ]
  },
  {
   "cell_type": "markdown",
   "id": "instrumental-canvas",
   "metadata": {},
   "source": [
    "-   The main modalities of medical response to cancer are"
   ]
  },
  {
   "cell_type": "code",
   "execution_count": null,
   "id": "treated-travel",
   "metadata": {},
   "outputs": [],
   "source": [
    "-   surgery\n",
    "-   chemotherapy\n",
    "-   radiation"
   ]
  },
  {
   "cell_type": "markdown",
   "id": "little-davis",
   "metadata": {},
   "source": [
    "-   Each of these modalities has a collection of subtypes, and they are\n",
    "    often used in combination\n",
    "\n",
    "-   How do doctors and patients navigate the available options?"
   ]
  },
  {
   "cell_type": "code",
   "execution_count": null,
   "id": "behind-navigator",
   "metadata": {},
   "outputs": [],
   "source": [
    "-   Answer: interpret available data as evidence in favor of or\n",
    "    against certain options"
   ]
  },
  {
   "cell_type": "markdown",
   "id": "approved-james",
   "metadata": {},
   "source": [
    "-   The “gold standard” for evidence in medical decisionmaking is the\n",
    "    randomized clinical trial (RCT)"
   ]
  },
  {
   "cell_type": "code",
   "execution_count": null,
   "id": "geographic-blues",
   "metadata": {},
   "outputs": [],
   "source": [
    "-   Trials are generally preceded by “pre-clinical” studies of drugs\n",
    "    or other treatment techniques\n",
    "-   Analysis of data in pre-clinical research often demands great\n",
    "    versatility of the statisticians and data scientists\n",
    "    -   such data are often sparse and noisy\n",
    "    -   ideally one integrates all available scientific information\n",
    "        about the proposed alternative, requiring extensive\n",
    "        literature search and acquisition of public data"
   ]
  },
  {
   "cell_type": "markdown",
   "id": "configured-feeding",
   "metadata": {},
   "source": [
    "# Questions to answer in designing a clinical trial [(Article)](https://www.cancer.org/treatment/treatments-and-side-effects/clinical-trials/what-you-need-to-know/phases-of-clinical-trials.html)\n",
    "\n",
    "D.1.1 What is the current standard of care?\n",
    "\n",
    "D.1.2 What care outcomes do we want to improve, and how much improvement\n",
    "would count as a real advance? (Here risk-benefit comparison becomes\n",
    "important)\n",
    "\n",
    "D.1.3 What is the proposed alternative?\n",
    "\n",
    "D.1.4 How do we determine a safe “dose” of the proposed alternative? (In\n",
    "the case of surgery this question may not make sense)\n",
    "\n",
    "D.1.5 How do we verify that the proposed alternative has any effect at\n",
    "all?\n",
    "\n",
    "D.1.6 How do we measure the overall benefit conferred by using the\n",
    "alternative method?\n",
    "\n",
    "# Answers\n",
    "\n",
    "D.1.1\n",
    "\n",
    "D.1.2\n",
    "\n",
    "D.1.3\n",
    "\n",
    "D.1.4\n",
    "\n",
    "D.1.5\n",
    "\n",
    "D.1.6\n",
    "\n",
    "# The typical strategy: Three phases\n",
    "\n",
    "-   Phase I: enroll healthy volunteers to do dose finding, assessing\n",
    "    toxicity and side effects\n",
    "-   Phase II: enroll patients with the disease and administer the\n",
    "    maximum tolerated dose to establish that the new treatment has some\n",
    "    beneficial effect\n",
    "-   Phase III: enroll patients with the disease, but set up a comparison\n",
    "    of the new treatment versus the standard of care\n",
    "    -   a design plan is produced detailing how many patients are to be\n",
    "        enrolled, how the treatments will be administered, and how the\n",
    "        data will be analyzed\n",
    "    -   patients are randomly assigned either the new treatment, or the\n",
    "        standard of care\n",
    "    -   a Data Safety Monitoring Board will review study data\n",
    "        periodically\n",
    "        -   studies may end prematurely if great benefit is seen early\n",
    "            on, or if it appears no benefit could be documented by\n",
    "            continuing the trial\n",
    "\n",
    "# Experimentation with human subjects is carefully regulated\n",
    "\n",
    "The concept of [informed\n",
    "consent](https://www.cancer.org/treatment/treatments-and-side-effects/clinical-trials/what-you-need-to-know/what-does-a-clinical-trial-involve.html)\n",
    "is central in the implementation of clinical trials.\n",
    "\n",
    "The [Belmont\n",
    "report](https://www.hhs.gov/ohrp/regulations-and-policy/belmont-report/index.html)\n",
    "defined principles and guidelines for all human subjects research."
   ]
  }
 ],
 "metadata": {  "kernelspec": {   "display_name": "R",   "language": "R",   "name": "ir"  }},
 "nbformat": 4,
 "nbformat_minor": 5
}
