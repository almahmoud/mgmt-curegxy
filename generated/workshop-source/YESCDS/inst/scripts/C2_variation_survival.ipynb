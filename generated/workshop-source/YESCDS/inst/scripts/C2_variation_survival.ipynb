{
 "cells": [
  {
   "cell_type": "markdown",
   "id": "major-airline",
   "metadata": {},
   "source": [
    "# The survival curve for a cohort of individuals\n",
    "\n",
    "For a variety of factors that are mostly demanding of further research,\n",
    "individuals with a given type of cancer may exhibit longer or shorter\n",
    "times from diagnosis to death.\n",
    "\n",
    "## Basic definition\n",
    "\n",
    "When times from diagnosis to death have been recorded on individuals in\n",
    "a cohort, a survival curve is a plot with values (x, y) where x is time\n",
    "elapsed from diagnosis, and y is the proportion of individuals surviving\n",
    "at least x units of time."
   ]
  },
  {
   "cell_type": "code",
   "execution_count": null,
   "id": "preliminary-electricity",
   "metadata": {},
   "outputs": [],
   "source": [
    "build_simple_survival_curve()"
   ]
  },
  {
   "cell_type": "markdown",
   "id": "seeing-hungary",
   "metadata": {},
   "source": [
    "Note that at 0 months, the probability of surviving is 100%. The\n",
    "probability of surviving at least 12 years (144 months) in this cohort\n",
    "is very small.\n",
    "\n",
    "## Reading off the median survival time\n",
    "\n",
    "The median of a set of numbers is the “middle” number *m*, with as many\n",
    "values smaller than *m* as there are values larger than *m*. Thus the\n",
    "median of the numbers 1, 2, 3, 4, 5 is 3. If there is an even number of\n",
    "values, we average the two middle numbers (e.g., for 1, 2, 3, 4, 5, 6,\n",
    "we would use 3.5 as the median.)\n",
    "\n",
    "The following display shows how to read the median survival time from a\n",
    "survival curve: draw the horizontal line at *y* = 1/2 and determine the\n",
    "*x* value where the intersection occurs."
   ]
  },
  {
   "cell_type": "code",
   "execution_count": null,
   "id": "future-yugoslavia",
   "metadata": {},
   "outputs": [],
   "source": [
    "show_median_estimate()"
   ]
  },
  {
   "cell_type": "markdown",
   "id": "freelance-encyclopedia",
   "metadata": {},
   "source": [
    "## Reading off the five-year survival probability"
   ]
  },
  {
   "cell_type": "code",
   "execution_count": null,
   "id": "prospective-outline",
   "metadata": {},
   "outputs": [],
   "source": [
    "show_5y_estimate()"
   ]
  },
  {
   "cell_type": "markdown",
   "id": "responsible-palestinian",
   "metadata": {},
   "source": [
    "## Exercises\n",
    "\n",
    "For a different cohort of patients, the survival curve is depicted\n",
    "below:"
   ]
  },
  {
   "cell_type": "code",
   "execution_count": null,
   "id": "extreme-mills",
   "metadata": {},
   "outputs": [],
   "source": [
    "do_new_surv()"
   ]
  },
  {
   "cell_type": "markdown",
   "id": "proof-universal",
   "metadata": {},
   "source": [
    "C.2.1 True or false: For this cohort, almost all individuals live at\n",
    "least 1.5 years after diagnosis\n",
    "\n",
    "C.2.2 Estimate the median survival time in months.\n",
    "\n",
    "C.2.3 What is the one-year survival probability? What is the ten-year\n",
    "survival probability?\n",
    "\n",
    "## Answers\n",
    "\n",
    "C.2.1\n",
    "\n",
    "C.2.2\n",
    "\n",
    "C.2.3"
   ]
  }
 ],
 "metadata": {  "kernelspec": {   "display_name": "R",   "language": "R",   "name": "ir"  }},
 "nbformat": 4,
 "nbformat_minor": 5
}
