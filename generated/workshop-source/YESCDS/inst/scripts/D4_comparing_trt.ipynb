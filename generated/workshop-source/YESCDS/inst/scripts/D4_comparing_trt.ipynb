{
 "cells": [
  {
   "cell_type": "markdown",
   "id": "australian-brooklyn",
   "metadata": {},
   "source": [
    "# Comparing cancer treatments\n",
    "\n",
    "In section C2 we learned how to interpret survival curves, which\n",
    "indicate the probability of surviving beyond a given period of time from\n",
    "diagnosis of disease.\n",
    "\n",
    "In this section we will examine data from a study published in 1979,\n",
    "that is conveniently available with R’s `survival` package.\n",
    "\n",
    "The citation for the study is"
   ]
  },
  {
   "cell_type": "code",
   "execution_count": null,
   "id": "outdoor-attachment",
   "metadata": {},
   "outputs": [],
   "source": [
    "J H Edmonson, T R Fleming, D G Decker, G D Malkasian, E O Jorgensen, J A Jefferies, \n",
    "M J Webb, L K Kvols, Cancer Treat Rep . 1979 Feb;63(2):241-7.\n",
    "Different chemotherapeutic sensitivities and host factors affecting prognosis in \n",
    "advanced ovarian carcinoma versus minimal residual disease"
   ]
  },
  {
   "cell_type": "markdown",
   "id": "everyday-support",
   "metadata": {},
   "source": [
    "The abstract is provided at the end of this vignette.\n",
    "\n",
    "The data for the ovarian cancer study has the following form:"
   ]
  },
  {
   "cell_type": "code",
   "execution_count": null,
   "id": "swedish-brunswick",
   "metadata": {},
   "outputs": [],
   "source": [
    "library(survival)\n",
    "datatable(ovarian)"
   ]
  },
  {
   "cell_type": "markdown",
   "id": "pressed-anaheim",
   "metadata": {},
   "source": [
    "The variable description is"
   ]
  },
  {
   "cell_type": "code",
   "execution_count": null,
   "id": "exact-screening",
   "metadata": {},
   "outputs": [],
   "source": [
    "Format:\n",
    "\n",
    "       futime:    survival or censoring time                           \n",
    "       fustat:    censoring status                                     \n",
    "       age:       in years                                             \n",
    "       resid.ds:  residual disease present (1=no,2=yes)                \n",
    "       rx:        treatment group                                      \n",
    "       ecog.ps:   ECOG performance status (1 is better, see reference) "
   ]
  },
  {
   "cell_type": "markdown",
   "id": "boolean-emperor",
   "metadata": {},
   "source": [
    "We will consider three aspects of interpretation of these data.\n",
    "\n",
    "## Estimation of survival probabilities by treatment group"
   ]
  },
  {
   "cell_type": "code",
   "execution_count": null,
   "id": "sporting-gateway",
   "metadata": {},
   "outputs": [],
   "source": [
    "osurv = Surv(ovarian$futime, ovarian$fustat)\n",
    "ofit1 = survfit(osurv~ovarian$rx)\n",
    "plot(ofit1, lty=1:2)\n",
    "legend(0, .4, lty=1:2, legend=c(\"cyc 1g/m2\", \"cyc .5g/m2 + adria\"))"
   ]
  },
  {
   "cell_type": "markdown",
   "id": "vulnerable-replica",
   "metadata": {},
   "source": [
    "## Testing for treatment effect"
   ]
  },
  {
   "cell_type": "code",
   "execution_count": null,
   "id": "talented-destiny",
   "metadata": {},
   "outputs": [],
   "source": [
    "survdiff(osurv~ovarian$rx)"
   ]
  },
  {
   "cell_type": "markdown",
   "id": "prostate-grove",
   "metadata": {},
   "source": [
    "## Modeling the survival curves for the effect of residual disease\n",
    "\n",
    "We can produce a very compact, two parameter model for the survival\n",
    "distributions for patients with and without residual disease."
   ]
  },
  {
   "cell_type": "code",
   "execution_count": null,
   "id": "alien-arthritis",
   "metadata": {},
   "outputs": [],
   "source": [
    "summary(survreg(osurv~I(ovarian$resid.ds-1), \n",
    "   dist=\"exponential\"))\n",
    "ofit2 = survfit(osurv~ovarian$resid.ds)\n",
    "plot(ofit2, lty=1:2)\n",
    "tim = 1:1200\n",
    "pp_nores = 1-pexp(1:1200, 1/exp(7.9)) # round parameter value\n",
    "lines(tim, pp_nores, col=\"blue\")\n",
    "pp_res = 1-pexp(1:1200, 1/exp(7.9-1.2))\n",
    "lines(tim, pp_res, col=\"red\")"
   ]
  },
  {
   "cell_type": "markdown",
   "id": "seasonal-decline",
   "metadata": {},
   "source": [
    "## Exercises\n",
    "\n",
    "D.4.1 Interpret confidence intervals for the one-year survival\n",
    "probabilities for the two treatments, ignoring the presence or absence\n",
    "of residual disease."
   ]
  },
  {
   "cell_type": "code",
   "execution_count": null,
   "id": "arbitrary-repeat",
   "metadata": {},
   "outputs": [],
   "source": [
    "par(mfrow=c(1,2))\n",
    "with(ovarian[ovarian$rx==1,], plot(survfit(Surv(futime,fustat)~1),conf.int=TRUE))\n",
    "with(ovarian[ovarian$rx==2,], plot(survfit(Surv(futime,fustat)~1),conf.int=TRUE))"
   ]
  },
  {
   "cell_type": "markdown",
   "id": "crazy-antique",
   "metadata": {},
   "source": [
    "-   \n",
    "\n",
    "Abstract of 1979 paper:"
   ]
  },
  {
   "cell_type": "code",
   "execution_count": null,
   "id": "popular-mayor",
   "metadata": {},
   "outputs": [],
   "source": [
    "Treatment of patients with advanced ovarian carcinoma (stages IIIB and IV) using \n",
    "either cyclophosphamide alone (1 g/m2) or cyclophosphamide (500 mg/m2) plus \n",
    "adriamycin (40 mg/m2) by iv injection every 3 weeks each produced partial \n",
    "regression in approximately one third of the patients. Survival curves and \n",
    "time-to-progression curves for the two regimens were nearly identical \n",
    "in these patients with advanced disease. These same regimens produced different \n",
    "results when used monthly in patients who had minimal residual \n",
    "disease (stages II and IIIA). In patients with minimal residual disease \n",
    "the therapeutic index of the combination regimen was superior to that of \n",
    "cyclophosphamide alone. Prognosis was better overall among patients with \n",
    "minimal residual disease than among patients with advanced disease. Within \n",
    "the minimal-disease group grossly complete excision of tumor prior to \n",
    "chemotherapy was associated with still better prognosis. Among patients \n",
    "with advanced disease, prognosis was significantly better for older patients \n",
    "despite their generally less favorable performance scores. Much \n",
    "of this prognostic superiority appeared to be related to menopausal \n",
    "status and presumably to the depletion of endogenous estrogens in the older patients."
   ]
  }
 ],
 "metadata": {  "kernelspec": {   "display_name": "R",   "language": "R",   "name": "ir"  }},
 "nbformat": 4,
 "nbformat_minor": 5
}
