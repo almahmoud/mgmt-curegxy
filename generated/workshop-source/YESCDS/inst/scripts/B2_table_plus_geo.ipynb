{
 "cells": [
  {
   "cell_type": "markdown",
   "id": "handled-server",
   "metadata": {},
   "source": [
    "# Basic geographic data about US counties\n",
    "\n",
    "The coordinates of central locations in US counties are provided in\n",
    "`us_county_geo`."
   ]
  },
  {
   "cell_type": "code",
   "execution_count": null,
   "id": "needed-crack",
   "metadata": {},
   "outputs": [],
   "source": [
    "data(us_county_geo)\n",
    "us_county_geo |> select(state, county, geometry) |> head()"
   ]
  },
  {
   "cell_type": "markdown",
   "id": "mineral-policy",
   "metadata": {},
   "source": [
    "Coordinates for metropolitan statistical areas are provided by\n",
    "“statcrunch”:"
   ]
  },
  {
   "cell_type": "code",
   "execution_count": null,
   "id": "strategic-yacht",
   "metadata": {},
   "outputs": [],
   "source": [
    "data(statcrunch_msa)\n",
    "head(statcrunch_msa)"
   ]
  },
  {
   "cell_type": "markdown",
   "id": "passing-lesbian",
   "metadata": {},
   "source": [
    "This geographic data has already been used to enhance the CDC incidence\n",
    "data in `woncan`:"
   ]
  },
  {
   "cell_type": "code",
   "execution_count": null,
   "id": "fresh-shock",
   "metadata": {},
   "outputs": [],
   "source": [
    "data(woncan)\n",
    "woncan |> group_by(MSA) |> \n",
    "    summarize(lat=head(lat)[1], lng=head(lng)[1]) |> head()"
   ]
  },
  {
   "cell_type": "markdown",
   "id": "theoretical-albuquerque",
   "metadata": {},
   "source": [
    "## Exercise\n",
    "\n",
    "B.2.1 Create a new notebook cell and run\n",
    "`YESCDS::table_woncan(\"Prostate\")`\n",
    "\n",
    "B.2.2 Use this table to find the latitude and longitude of Boston.\n",
    "\n",
    "## Answers\n",
    "\n",
    "B.2.1\n",
    "\n",
    "B.2.2\n",
    "\n",
    "# An interactive map of the US with cancer rates\n",
    "\n",
    "After combining cancer rate data for a collection of cancer types and\n",
    "metropolitan statistical areas, we can produce a map showing variation\n",
    "in cancer incidence over the United States. Here is the example for\n",
    "stomach cancer:"
   ]
  },
  {
   "cell_type": "code",
   "execution_count": null,
   "id": "recovered-pearl",
   "metadata": {},
   "outputs": [],
   "source": [
    "cancer_map_usa(site=\"Stomach\")"
   ]
  },
  {
   "cell_type": "markdown",
   "id": "stainless-river",
   "metadata": {},
   "source": [
    "## Exercise\n",
    "\n",
    "B.2.3 Create a new notebook cell and run\n",
    "`cancer_map_usa(site=\"Prostate\", scaling=0.05)`\n",
    "\n",
    "B.2.4 Can you identify the area with the highest incidence of prostate\n",
    "cancer?\n",
    "\n",
    "## Answers\n",
    "\n",
    "B.2.3\n",
    "\n",
    "B.2.4\n",
    "\n",
    "# A data graphic\n",
    "\n",
    "Finally, to get a different view of variation in cancer rates across the\n",
    "United States, run a cell with the following command. Geographic\n",
    "location is lost, but the range of variation, and details of variation\n",
    "can be seen very clearly in these displays."
   ]
  },
  {
   "cell_type": "code",
   "execution_count": null,
   "id": "cooked-silver",
   "metadata": {},
   "outputs": [],
   "source": [
    "browseURL(\"https://vjcitn.shinyapps.io/ratevariation\")"
   ]
  },
  {
   "cell_type": "markdown",
   "id": "gentle-check",
   "metadata": {},
   "source": [
    "## Exercise\n",
    "\n",
    "B.2.5 Change the body site to “Pancreas” (remove “Brain”) and find,\n",
    "using the histogram tab, the areas with highest and lowest age-adjusted\n",
    "rates of pancreatic cancer.\n",
    "\n",
    "## Answer\n",
    "\n",
    "B.2.5"
   ]
  }
 ],
 "metadata": {  "kernelspec": {   "display_name": "R",   "language": "R",   "name": "ir"  }},
 "nbformat": 4,
 "nbformat_minor": 5
}
