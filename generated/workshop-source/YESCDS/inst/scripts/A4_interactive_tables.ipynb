{
 "cells": [
  {
   "cell_type": "markdown",
   "id": "residential-honor",
   "metadata": {},
   "source": [
    "# Interactive rate tables\n",
    "\n",
    "# A tabulation of cancer types and incidence rates across ‘Metropolitan Statistical Areas’\n",
    "\n",
    "We have formatted information from the CDC WONDER system so that it can\n",
    "be searched and sorted as desired."
   ]
  },
  {
   "cell_type": "code",
   "execution_count": null,
   "id": "shaped-replication",
   "metadata": {},
   "outputs": [],
   "source": [
    "datatable(littab)"
   ]
  },
  {
   "cell_type": "markdown",
   "id": "heard-single",
   "metadata": {},
   "source": [
    "# Exercises\n",
    "\n",
    "A.4.1 How many areas failed to report an age-adjusted rate for prostate\n",
    "cancer?\n",
    "\n",
    "A.4.2 Which state has four different areas reporting age-adjusted\n",
    "prostate cancer incidence exceeding 150 per 100000 men?\n",
    "\n",
    "A.4.3 Which state has three different areas reporting female breast\n",
    "cancer incidence exceeding 130 per 100000 women?\n",
    "\n",
    "A.4.4 Comment on the difficulty of making focused queries using this\n",
    "tabular presentation.\n",
    "\n",
    "# Answers\n",
    "\n",
    "A.4.1\n",
    "\n",
    "A.4.2\n",
    "\n",
    "A.4.3\n",
    "\n",
    "A.4.4"
   ]
  }
 ],
 "metadata": {  "kernelspec": {   "display_name": "R",   "language": "R",   "name": "ir"  }},
 "nbformat": 4,
 "nbformat_minor": 5
}
