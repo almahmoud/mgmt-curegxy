{
 "cells": [
  {
   "cell_type": "markdown",
   "metadata": {},
   "source": [
    "Visualizing variability\n",
    "=======================\n",
    "\n",
    "We have been looking at cancer incidence data in the form of tables of\n",
    "numbers. We can sort, search, filter these tables fairly easily. “Data\n",
    "graphics”, also known as “statistical visualization”, have been devised\n",
    "to help us get insights that have a different character. One objective\n",
    "is to develop a sense of variation in a quantity of interest, by\n",
    "aggregating data values in various ways and presenting these aggregates\n",
    "in graphical form.\n",
    "\n",
    "Histograms\n",
    "----------\n",
    "\n",
    "Histograms help visualize variability in a quantity of interest. The\n",
    "range of the quantity of interest is “binned” – chopped up into\n",
    "intervals of equal width. Midpoints of bins are plotted on the x axis,\n",
    "and counts of values in bins are plotted on the y axis.\n",
    "\n",
    "We illustrate with the CDC WONDER data on Prostate cancer incidence."
   ]
  },
  {
   "cell_type": "code",
   "execution_count": null,
   "metadata": {},
   "outputs": [],
   "source": [
    "make_hist(site=\"Prostate\", binwidth=5, rate_table=littab)"
   ]
  },
  {
   "cell_type": "markdown",
   "metadata": {},
   "source": [
    "We can change the visual character of the histogram display by reducing\n",
    "the bin width."
   ]
  },
  {
   "cell_type": "code",
   "execution_count": null,
   "metadata": {},
   "outputs": [],
   "source": [
    "make_hist(site=\"Prostate\", binwidth=2, rate_table=littab)"
   ]
  },
  {
   "cell_type": "markdown",
   "metadata": {},
   "source": [
    "### Exercises\n",
    "\n",
    "A.5.1 Based on the first histogram shown above, what is the most\n",
    "commonly observed value for prostate cancer incidence (per 100,000 men)\n",
    "in metropolitan statistical areas (MSAs) of the United States? You can\n",
    "scroll over the display to find values for particular MSAs. Your answer\n",
    "can be a range of numbers.\n",
    "\n",
    "A.5.2 Use the first histogram to report on the number of MSAs that\n",
    "report prostate cancer incidence between 142 and 147 per 100,000 men.\n",
    "\n",
    "A.5.3 The second histogram is produced from the same set of statistics\n",
    "as the first, but uses a smaller “binwidth”. Comment on some differences\n",
    "between the two displays.\n",
    "\n",
    "A.5.4 Add a cell to your notebook using the “+” button, enter the\n",
    "command `make_hist(site=\"Female Breast\")` and press the “play” button.\n",
    "What is the most commonly reported rate of female breast cancer\n",
    "incidence in MSAs in the US?\n",
    "\n",
    "A.5.5 Hover over the leftmost block in the display. What is the MSA with\n",
    "lowest value of Female Breast cancer incidence, and what is the reported\n",
    "rate?\n",
    "\n",
    "Using a histogram to compare cancer incidence rates in two areas\n",
    "----------------------------------------------------------------\n",
    "\n",
    "By computing differences or ratios and forming the histogram, we can\n",
    "assess whether there is a tendency to higher values in one of the areas\n",
    "of interest."
   ]
  },
  {
   "cell_type": "code",
   "execution_count": null,
   "metadata": {},
   "outputs": [],
   "source": [
    "ggplotly(make_comparison(rate_table=littab, type=\"ratios\"))"
   ]
  },
  {
   "cell_type": "markdown",
   "metadata": {},
   "source": [
    "More detail about individual values can be obtained with an approach\n",
    "called “beeswarm” plotting."
   ]
  },
  {
   "cell_type": "code",
   "execution_count": null,
   "metadata": {},
   "outputs": [],
   "source": [
    "ggplotly(make_pair(type=\"beeswarm\", rate_table=littab ))"
   ]
  },
  {
   "cell_type": "markdown",
   "metadata": {},
   "source": [
    "### Exercises\n",
    "\n",
    "A.5.6 The use of ratios in the `make_comparison` display above\n",
    "eliminates information about the absolute incidence rates. Open a\n",
    "notebook cell and use the commands"
   ]
  },
  {
   "cell_type": "code",
   "execution_count": null,
   "metadata": {},
   "outputs": [],
   "source": [
    "library(YESCDS)\n",
    "library(plotly)\n",
    "data(woncan)\n",
    "ggplotly(make_comparison(rate_table=woncan, type=\"scatter\"))"
   ]
  },
  {
   "cell_type": "markdown",
   "metadata": {},
   "source": [
    "When you hover the mouse over points on the display, the individual\n",
    "rates are presented.\n",
    "\n",
    "True or False: the presence of a majority of points below and to the\n",
    "right of the straight line implies that the incidence rates for a\n",
    "variety of cancer types in Baton Rouge, LA are more frequently higher\n",
    "than those in Tucson, AZ.\n",
    "\n",
    "A.5.7 Using the values presented in the interactive scatterplot, compute\n",
    "the ratio of incidence rates for prostate cancer in Baton Rouge compared\n",
    "to those in Tucson. Compare to the result provided in the\n",
    "`make_comparison` histogram above."
   ]
  }
 ],
 "metadata": {  "kernelspec": {   "display_name": "R",   "language": "R",   "name": "ir"  }},
 "nbformat": 4,
 "nbformat_minor": 4
}
