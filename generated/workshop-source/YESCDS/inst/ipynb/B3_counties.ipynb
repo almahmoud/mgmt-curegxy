{
 "cells": [
  {
   "cell_type": "markdown",
   "metadata": {},
   "source": [
    "Cancer rates in Massachusetts counties, tabulated\n",
    "================================================="
   ]
  },
  {
   "cell_type": "code",
   "execution_count": null,
   "metadata": {},
   "outputs": [],
   "source": [
    "datatable(MA_cancer_rate_table())"
   ]
  },
  {
   "cell_type": "markdown",
   "metadata": {},
   "source": [
    "Mapping the rates\n",
    "================="
   ]
  },
  {
   "cell_type": "code",
   "execution_count": null,
   "metadata": {},
   "outputs": [],
   "source": [
    "mass_cancer_map()"
   ]
  },
  {
   "cell_type": "markdown",
   "metadata": {},
   "source": [
    "Addressing uncertainty in the rates\n",
    "===================================\n",
    "\n",
    "The reported rates are statistics collected over time and are adjusted\n",
    "using a model for age distribution in the US. The counts on which the\n",
    "reported rates are imprecise. Therefore “confidence limits” are produced\n",
    "with the rate estimates.\n",
    "\n",
    "Here are the prostate cancer rates in Massachusetts counties, plotted\n",
    "with confidence limits."
   ]
  },
  {
   "cell_type": "code",
   "execution_count": null,
   "metadata": {},
   "outputs": [],
   "source": [
    "plotwci(MA_cancer_rate_table(\"prostate\"), ylim=c(90,270))"
   ]
  },
  {
   "cell_type": "markdown",
   "metadata": {},
   "source": [
    "One message from this display is that prostate cancer in Nantucket\n",
    "county has an estimated age-adjusted incidence in 2014-2018 of about 200\n",
    "cases per 100000 men, but the actual rate may be lower or higher. The\n",
    "uncertainty of the estimate arises from the relatively small population\n",
    "of Nantucket county.\n",
    "\n",
    "Exercises\n",
    "=========\n",
    "\n",
    "-   What are the reported population sizes for Middlesex and Nantucket\n",
    "    counties?\n",
    "\n",
    "-   Run the following chunk to produce a different representation of\n",
    "    incidence rates for cancers of lung and bronchus in California\n",
    "    counties:\n",
    "\n",
    "<!-- -->"
   ]
  },
  {
   "cell_type": "code",
   "execution_count": null,
   "metadata": {},
   "outputs": [],
   "source": [
    "ordered_seg_cal()"
   ]
  },
  {
   "cell_type": "markdown",
   "metadata": {},
   "source": [
    "Two statistics are presented for the US as a whole and for the entire\n",
    "state of California.\n",
    "\n",
    "True or False: We are fairly confident that the incidence of cancers of\n",
    "lung and bronchus in San Joaquin county is lower than that of the US as\n",
    "a whole.\n",
    "\n",
    "The midpoint of the plotted interval is the estimated incidence rate.\n",
    "Which California counties have incidence rates that are around half that\n",
    "of the US as a whole?"
   ]
  }
 ],
 "metadata": {  "kernelspec": {   "display_name": "R",   "language": "R",   "name": "ir"  }},
 "nbformat": 4,
 "nbformat_minor": 4
}
