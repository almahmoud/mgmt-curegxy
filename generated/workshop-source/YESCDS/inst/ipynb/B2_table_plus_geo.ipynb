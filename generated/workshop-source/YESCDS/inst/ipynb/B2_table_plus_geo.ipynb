{
 "cells": [
  {
   "cell_type": "markdown",
   "metadata": {},
   "source": [
    "The basic geographic data about US counties\n",
    "===========================================\n",
    "\n",
    "The coordinates of central locations in US counties are provided in\n",
    "`us_county_geo`."
   ]
  },
  {
   "cell_type": "code",
   "execution_count": null,
   "metadata": {},
   "outputs": [],
   "source": [
    "data(us_county_geo)\n",
    "us_county_geo |> select(state, county, geometry) |> head()"
   ]
  },
  {
   "cell_type": "markdown",
   "metadata": {},
   "source": [
    "Coordinates for metropolitan statistical areas are provided by\n",
    "“statcrunch”:"
   ]
  },
  {
   "cell_type": "code",
   "execution_count": null,
   "metadata": {},
   "outputs": [],
   "source": [
    "data(statcrunch_msa)\n",
    "head(statcrunch_msa)"
   ]
  },
  {
   "cell_type": "markdown",
   "metadata": {},
   "source": [
    "This geographic data has already been used to enhance the CDC incidence\n",
    "data in `woncan`:"
   ]
  },
  {
   "cell_type": "code",
   "execution_count": null,
   "metadata": {},
   "outputs": [],
   "source": [
    "data(woncan)\n",
    "woncan |> group_by(MSA) |> \n",
    "    summarize(lat=head(lat)[1], lng=head(lng)[1]) |> head()"
   ]
  },
  {
   "cell_type": "markdown",
   "metadata": {},
   "source": [
    "Exercise\n",
    "--------\n",
    "\n",
    "Create a new notebook cell and run"
   ]
  },
  {
   "cell_type": "code",
   "execution_count": null,
   "metadata": {},
   "outputs": [],
   "source": [
    "YESCDS::table_woncan(\"Prostate\")"
   ]
  },
  {
   "cell_type": "markdown",
   "metadata": {},
   "source": [
    "Use this table to find the latitude and longitude of Boston.\n",
    "\n",
    "An interactive map of the US with cancer rates\n",
    "==============================================\n",
    "\n",
    "After combining cancer rate data for a collection of cancer types and\n",
    "metropolitan statistical areas, we can produce a map showing variation\n",
    "in cancer incidence over the United States. Here is the example for\n",
    "stomach cancer:"
   ]
  },
  {
   "cell_type": "code",
   "execution_count": null,
   "metadata": {},
   "outputs": [],
   "source": [
    "cancer_map_usa(site=\"Stomach\")"
   ]
  },
  {
   "cell_type": "markdown",
   "metadata": {},
   "source": [
    "Exercise\n",
    "--------\n",
    "\n",
    "Create a new notebook cell and run"
   ]
  },
  {
   "cell_type": "code",
   "execution_count": null,
   "metadata": {},
   "outputs": [],
   "source": [
    "cancer_map_usa(site=\"Prostate\", scaling=0.05)"
   ]
  },
  {
   "cell_type": "markdown",
   "metadata": {},
   "source": [
    "Can you identify the area with the highest incidence of prostate cancer?\n",
    "\n",
    "A data graphic\n",
    "==============\n",
    "\n",
    "Finally, to get a different view of variation in cancer rates across the\n",
    "United States, run a cell with the following command. Geographic\n",
    "location is lost, but the range of variation, and details of variation\n",
    "can be seen very clearly in these displays."
   ]
  },
  {
   "cell_type": "code",
   "execution_count": null,
   "metadata": {},
   "outputs": [],
   "source": [
    "browseURL(\"https://vjcitn.shinyapps.io/ratevariation\")"
   ]
  },
  {
   "cell_type": "markdown",
   "metadata": {},
   "source": [
    "Change the body site to “Pancreas” (remove “Brain”) and find, using the\n",
    "histogram tab, the areas with highest and lowest age-adjusted rates of\n",
    "pancreatic cancer."
   ]
  }
 ],
 "metadata": {  "kernelspec": {   "display_name": "R",   "language": "R",   "name": "ir"  }},
 "nbformat": 4,
 "nbformat_minor": 4
}
