{
 "cells": [
  {
   "cell_type": "markdown",
   "metadata": {},
   "source": [
    "Variation in cancer rates, recorded at the county level\n",
    "=======================================================\n",
    "\n",
    "We focus on colorectal cancer:\n",
    "\n",
    "![NIH/CDC State Cancer Profiles](colon8GroupIncidence.jpg)\n",
    "\n",
    "Exercises\n",
    "=========\n",
    "\n",
    "A.3.1 Use [State Cancer\n",
    "Profiles](https://statecancerprofiles.cancer.gov/map/map.noimage.php) to\n",
    "produce a map of colorectal cancer incidence for Massachusetts. You will\n",
    "have to make selections in the web interface. Choose the Quantiles\n",
    "interval type with 8 intervals. Obtain the map for both sexes, all ages.\n",
    "What is the county with lowest incidence of colorectal cancer?\n",
    "\n",
    "A.3.2 True or false: In Massachusetts, the age-adjusted incidence of\n",
    "colorectal cancer for individuals greater than 65 years of age is\n",
    "approximately ten times that of individuals less than 50 years of age.\n",
    "\n",
    "A.3.3 Return to cancers of colon and rectum. Form a map for Area “United\n",
    "States”, Area Type “By State”. Limit to age less than 50. Which state\n",
    "has the highest incidence of colorectal cancer in this age group?\n",
    "\n",
    "A.3.4 Data presented by the Environmental Protection Agency can be seen\n",
    "at [Exhibit 5 of the current Report on the\n",
    "Environment](https://cfpub.epa.gov/roe/indicator.cfm?i=73#5). What is\n",
    "the estimated incidence rate for colorectal cancer for females in 2017\n",
    "(end of the curve)? How does this compare to the “State Cancer Profile”\n",
    "statistic for females of all ages?\n",
    "\n",
    "A.3.5 Using the EPA chart in Exhibit 5, which type of cancer in females\n",
    "shows a steady decrease in incidence from 2000 to 2017?"
   ]
  }
 ],
 "metadata": {  "kernelspec": {   "display_name": "R",   "language": "R",   "name": "ir"  }},
 "nbformat": 4,
 "nbformat_minor": 4
}
