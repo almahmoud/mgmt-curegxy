{
 "cells": [
  {
   "cell_type": "markdown",
   "metadata": {},
   "source": [
    "Fair comparisons\n",
    "================\n",
    "\n",
    "Two basic types of comparison are of interest in cancer epidemiology:\n",
    "\n",
    "-   Do cancer rates differ between geographic regions (counties, states,\n",
    "    countries, …)?\n",
    "-   Do cancer rates change over time?\n",
    "\n",
    "Because cancer risks increaase generally as people age, comparisons of\n",
    "cancer risk should account for the “age structure” in the regions or\n",
    "time periods being compared.\n",
    "\n",
    "Crude rate examples\n",
    "===================\n",
    "\n",
    "Crude rates ignore age structure. Here are some examples of mortality\n",
    "rates taken (with rounding) from a Statistics Canada web site."
   ]
  },
  {
   "cell_type": "code",
   "execution_count": null,
   "metadata": {},
   "outputs": [],
   "source": [
    "canada_crude[6,4] = NA\n",
    "canada_crude"
   ]
  },
  {
   "cell_type": "markdown",
   "metadata": {},
   "source": [
    "Question: What is the (rounded) crude mortality rate for the older age\n",
    "group in 2011?\n",
    "\n",
    "Age structure\n",
    "=============\n",
    "\n",
    "The “age structure” of a population is the percentage of population\n",
    "reporting ages in different groups. Usually the grouping is finer than\n",
    "what we are using in this example; more realistic illustrations are\n",
    "given below.\n",
    "\n",
    "Statistics Canada proposed using the age structure of Canada in 1991 as\n",
    "a reference for standardization. In 1991, 62% of Canadians were age 0 to\n",
    "39y, and 38% were 40y and older.\n",
    "\n",
    "We use these percentages to adjust the crude rates.\n",
    "\n",
    "Adjusted rate computation\n",
    "=========================\n",
    "\n",
    "For the year 2000, we take the crude rates of 7 and 450 (per 100000\n",
    "population) and reweight and sum:"
   ]
  },
  {
   "cell_type": "code",
   "execution_count": null,
   "metadata": {},
   "outputs": [],
   "source": [
    "7 * .62 + 450 * .38"
   ]
  },
  {
   "cell_type": "markdown",
   "metadata": {},
   "source": [
    "yielding 175.3 per 100000 “standard population”. This is the age\n",
    "standardized mortality rate in the year 2000.\n",
    "\n",
    "Question: What is the age standardized mortality rate for 2011?\n",
    "\n",
    "Question: What can you say about the cancer mortality trend in Canada\n",
    "between 2000 and 2011?\n",
    "\n",
    "Some examples of age structure models\n",
    "=====================================\n",
    "\n",
    "A [methods\n",
    "paper](https://wonder.cdc.gov/wonder/help/cancer/fayfeuerconfidenceintervals.pdf)\n",
    "on confidence intervals for standardized rates includes the following\n",
    "display:\n",
    "\n",
    "![Age structure](images/standardPopGraphs.jpg)\n",
    "\n",
    "We read this as showing that in the US in 1970, about 18% of the\n",
    "population was under 10 years of age, while in the world overall, about\n",
    "22% of the population was under 10 years of age.\n",
    "\n",
    "Question: What features of the bottom two displays above suggest that it\n",
    "will be important to differentiate age distributions for men and women\n",
    "in forming standardized rates?"
   ]
  }
 ],
 "metadata": {  "kernelspec": {   "display_name": "R",   "language": "R",   "name": "ir"  }},
 "nbformat": 4,
 "nbformat_minor": 4
}
