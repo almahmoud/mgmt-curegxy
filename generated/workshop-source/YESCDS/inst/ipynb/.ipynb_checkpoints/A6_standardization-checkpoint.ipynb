{
 "cells": [
  {
   "cell_type": "markdown",
   "id": "0a90bda5",
   "metadata": {},
   "source": [
    "# Fair comparisons\n",
    "\n",
    "Two basic types of comparison are of interest in cancer epidemiology:\n",
    "\n",
    "-   Do cancer rates differ between geographic regions (counties, states,\n",
    "    countries, …)?\n",
    "-   Do cancer rates change over time?\n",
    "\n",
    "Because cancer risks increaase generally as people age, comparisons of\n",
    "cancer risk should account for the “age structure” in the regions or\n",
    "time periods being compared.\n",
    "\n",
    "# Crude rate examples\n",
    "\n",
    "Crude rates ignore age structure. Here are some examples of mortality\n",
    "rates taken (with rounding) from a Statistics Canada web site."
   ]
  },
  {
   "cell_type": "code",
   "execution_count": 1,
   "id": "4e5d3ef1",
   "metadata": {},
   "outputs": [
    {
     "data": {
      "text/plain": [
       "\n",
       "\n",
       "|agegrp        |characteristic         |     2000|     2011|\n",
       "|:-------------|:----------------------|--------:|--------:|\n",
       "|0 to 39y      |estimate of population | 17000000| 17200000|\n",
       "|              |# cancer deaths        |     1340|     1000|\n",
       "|              |crude rate             |        7|        5|\n",
       "|40y and older |estimate of population | 13600000| 17150000|\n",
       "|              |# cancer deaths        |    61300|    71400|\n",
       "|              |crude rate             |      450|      416|\n",
       "|All ages      |estimate of population | 30600000| 34400000|\n",
       "|              |# cancer deaths        |    62640|    72400|\n",
       "|              |crude rate             |      204|      210|"
      ]
     },
     "metadata": {},
     "output_type": "display_data"
    }
   ],
   "source": [
    "library(YESCDS)\n",
    "data(canada_crude)\n",
    "library(knitr)\n",
    "kable(canada_crude)"
   ]
  },
  {
   "cell_type": "markdown",
   "id": "f0409d07",
   "metadata": {},
   "source": [
    "Question: What is the (rounded) crude mortality rate for the older age\n",
    "group in 2011?\n",
    "\n",
    "# Age structure\n",
    "\n",
    "The “age structure” of a population is the percentage of population\n",
    "reporting ages in different groups. Usually the grouping is finer than\n",
    "what we are using in this example.\n",
    "\n",
    "Statistics Canada proposed using the age structure of Canada in 1991 as\n",
    "a reference for standardization. In 1991, 62% of Canadians were age 0 to\n",
    "39y, and 38% were 40y and older.\n",
    "\n",
    "We use these percentages to adjust the crude rates.\n",
    "\n",
    "# Adjusted rate computation\n",
    "\n",
    "For the year 2000, we take the crude rates of 7 and 450 (per 100000\n",
    "population) and reweight and sum:"
   ]
  },
  {
   "cell_type": "code",
   "execution_count": null,
   "id": "c142f08f",
   "metadata": {},
   "outputs": [],
   "source": [
    "7 * .62 + 450 * .38"
   ]
  },
  {
   "cell_type": "markdown",
   "id": "cf87cdbb",
   "metadata": {},
   "source": [
    "yielding 175.3 per 100000 “standard population”. This is the age\n",
    "standardized mortality rate in the year 2000.\n",
    "\n",
    "Question: What is the age standardized mortality rate for 2011?\n",
    "\n",
    "Question: What can you say about the cancer mortality trend in Canada\n",
    "between 2000 and 2011?"
   ]
  }
 ],
 "metadata": {
  "kernelspec": {
   "display_name": "R",
   "language": "R",
   "name": "ir"
  },
  "language_info": {
   "codemirror_mode": "r",
   "file_extension": ".r",
   "mimetype": "text/x-r-source",
   "name": "R",
   "pygments_lexer": "r",
   "version": "4.2.0"
  }
 },
 "nbformat": 4,
 "nbformat_minor": 5
}
