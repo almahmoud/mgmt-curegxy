{
 "cells": [
  {
   "cell_type": "markdown",
   "id": "07e228c8",
   "metadata": {},
   "source": [
    "# A tabulation of cancer types and incidence rates across ‘Metropolitan Statistical Areas’\n",
    "\n",
    "We have formatted information from the CDC WONDER system so that it can\n",
    "be searched and sorted as desired.\n",
    "\n",
    "# Exercises\n",
    "\n",
    "A.4.1 How many areas failed to report an age-adjusted rate for prostate\n",
    "cancer?\n",
    "\n",
    "A.4.2 Which state has four different areas reporting age-adjusted\n",
    "prostate cancer incidence exceeding 150 per 100000 men?\n",
    "\n",
    "A.4.3 Which state has three different areas reporting female breast\n",
    "cancer incidence exceeding 130 per 100000 women?\n",
    "\n",
    "A.4.4 Comment on the difficulty of making focused queries using this\n",
    "tabular presentation."
   ]
  }
 ],
 "metadata": {
  "kernelspec": {
   "display_name": "R",
   "language": "R",
   "name": "ir"
  },
  "language_info": {
   "codemirror_mode": "r",
   "file_extension": ".r",
   "mimetype": "text/x-r-source",
   "name": "R",
   "pygments_lexer": "r",
   "version": "4.2.0"
  }
 },
 "nbformat": 4,
 "nbformat_minor": 5
}
