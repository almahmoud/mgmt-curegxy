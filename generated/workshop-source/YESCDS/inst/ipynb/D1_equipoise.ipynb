{
 "cells": [
  {
   "cell_type": "markdown",
   "metadata": {},
   "source": [
    "Equipoise: individual and clinical\n",
    "==================================\n",
    "\n",
    "Distinguished in [AMA ethics,\n",
    "2015](https://journalofethics.ama-assn.org/article/question-clinical-equipoise-and-patients-best-interests/2015-12)\n",
    "\n",
    "> What is the state of medical knowledge? Why is this trial asking an\n",
    "> important question? How does the likelihood of benefiting in study A\n",
    "> compare with that of benefiting in study B or with the standard of\n",
    "> care? – attributed to B. Freedman\n",
    "\n",
    "-   Belief in the new treatment\n",
    "\n",
    "-   Belief in the patient’s suitability for the new treatment\n",
    "\n",
    "-   Interpretation of new evidence\n",
    "\n",
    "-   Risk that new evidence will “regress”\n",
    "\n",
    "-   Alternative: fully informed patient consent"
   ]
  }
 ],
 "metadata": {  "kernelspec": {   "display_name": "R",   "language": "R",   "name": "ir"  }},
 "nbformat": 4,
 "nbformat_minor": 4
}
