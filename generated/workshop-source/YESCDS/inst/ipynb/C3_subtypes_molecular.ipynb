{
 "cells": [
  {
   "cell_type": "markdown",
   "metadata": {},
   "source": [
    "Cancers locate in specific organs\n",
    "=================================\n",
    "\n",
    "![Overall, data commons](images/bodymap.jpg)\n",
    "\n",
    "The burden of cancer by primary site\n",
    "------------------------------------\n",
    "\n",
    "SEER (Surveillance, Epidemiology and End Results) [estimates for\n",
    "2017](https://seer.cancer.gov/statistics/preliminary-estimates/preliminary.html)\n",
    "for males:\n",
    "\n",
    "![SEER2017 male](images/SEERMALE.jpg)\n",
    "\n",
    "For females:\n",
    "\n",
    "![SEER2017 female](images/SEERFEMALE.jpg)\n",
    "\n",
    "Survival curves: typical and extreme fates for those with cancer\n",
    "----------------------------------------------------------------\n",
    "\n",
    "Genes that are often mutated in cancer\n",
    "--------------------------------------\n",
    "\n",
    "A view of breast cancer survival\n",
    "================================\n",
    "\n",
    "An overall survival curve\n",
    "-------------------------\n",
    "\n",
    "![Breast cancer genes and survival curve](images/breastGenGDC.jpg)\n",
    "\n",
    "Curves comparing persons with and without mutation\n",
    "--------------------------------------------------"
   ]
  }
 ],
 "metadata": {  "kernelspec": {   "display_name": "R",   "language": "R",   "name": "ir"  }},
 "nbformat": 4,
 "nbformat_minor": 4
}
